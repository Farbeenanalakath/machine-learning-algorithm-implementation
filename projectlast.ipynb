{
 "cells": [
  {
   "cell_type": "code",
   "execution_count": 22,
   "metadata": {},
   "outputs": [
    {
     "data": {
      "text/html": [
       "<div>\n",
       "<style scoped>\n",
       "    .dataframe tbody tr th:only-of-type {\n",
       "        vertical-align: middle;\n",
       "    }\n",
       "\n",
       "    .dataframe tbody tr th {\n",
       "        vertical-align: top;\n",
       "    }\n",
       "\n",
       "    .dataframe thead th {\n",
       "        text-align: right;\n",
       "    }\n",
       "</style>\n",
       "<table border=\"1\" class=\"dataframe\">\n",
       "  <thead>\n",
       "    <tr style=\"text-align: right;\">\n",
       "      <th></th>\n",
       "      <th>Country_name</th>\n",
       "      <th>Country_code</th>\n",
       "      <th>Days</th>\n",
       "      <th>Cost_of _living</th>\n",
       "      <th>Class</th>\n",
       "      <th>Ticket_price</th>\n",
       "    </tr>\n",
       "  </thead>\n",
       "  <tbody>\n",
       "    <tr>\n",
       "      <th>0</th>\n",
       "      <td>Afghanistan</td>\n",
       "      <td>4</td>\n",
       "      <td>30</td>\n",
       "      <td>30172.460000</td>\n",
       "      <td>0</td>\n",
       "      <td>24540</td>\n",
       "    </tr>\n",
       "    <tr>\n",
       "      <th>1</th>\n",
       "      <td>Aland Islands</td>\n",
       "      <td>248</td>\n",
       "      <td>30</td>\n",
       "      <td>71838.010000</td>\n",
       "      <td>0</td>\n",
       "      <td>38000</td>\n",
       "    </tr>\n",
       "    <tr>\n",
       "      <th>2</th>\n",
       "      <td>Albania</td>\n",
       "      <td>8</td>\n",
       "      <td>30</td>\n",
       "      <td>34357.490000</td>\n",
       "      <td>0</td>\n",
       "      <td>37154</td>\n",
       "    </tr>\n",
       "    <tr>\n",
       "      <th>3</th>\n",
       "      <td>Algeria</td>\n",
       "      <td>12</td>\n",
       "      <td>30</td>\n",
       "      <td>27494.490000</td>\n",
       "      <td>0</td>\n",
       "      <td>38438</td>\n",
       "    </tr>\n",
       "    <tr>\n",
       "      <th>4</th>\n",
       "      <td>Andorra</td>\n",
       "      <td>20</td>\n",
       "      <td>30</td>\n",
       "      <td>59507.980000</td>\n",
       "      <td>0</td>\n",
       "      <td>65492</td>\n",
       "    </tr>\n",
       "    <tr>\n",
       "      <th>...</th>\n",
       "      <td>...</td>\n",
       "      <td>...</td>\n",
       "      <td>...</td>\n",
       "      <td>...</td>\n",
       "      <td>...</td>\n",
       "      <td>...</td>\n",
       "    </tr>\n",
       "    <tr>\n",
       "      <th>3796</th>\n",
       "      <td>Venezuela</td>\n",
       "      <td>862</td>\n",
       "      <td>20</td>\n",
       "      <td>26736.285714</td>\n",
       "      <td>2</td>\n",
       "      <td>257598</td>\n",
       "    </tr>\n",
       "    <tr>\n",
       "      <th>3797</th>\n",
       "      <td>Vietnam</td>\n",
       "      <td>704</td>\n",
       "      <td>20</td>\n",
       "      <td>23332.107143</td>\n",
       "      <td>2</td>\n",
       "      <td>183775</td>\n",
       "    </tr>\n",
       "    <tr>\n",
       "      <th>3798</th>\n",
       "      <td>Yemen</td>\n",
       "      <td>887</td>\n",
       "      <td>20</td>\n",
       "      <td>35579.578571</td>\n",
       "      <td>2</td>\n",
       "      <td>0</td>\n",
       "    </tr>\n",
       "    <tr>\n",
       "      <th>3799</th>\n",
       "      <td>Zambia</td>\n",
       "      <td>894</td>\n",
       "      <td>20</td>\n",
       "      <td>25017.407143</td>\n",
       "      <td>2</td>\n",
       "      <td>129491</td>\n",
       "    </tr>\n",
       "    <tr>\n",
       "      <th>3800</th>\n",
       "      <td>Zimbabwe</td>\n",
       "      <td>716</td>\n",
       "      <td>20</td>\n",
       "      <td>31119.657143</td>\n",
       "      <td>2</td>\n",
       "      <td>180599</td>\n",
       "    </tr>\n",
       "  </tbody>\n",
       "</table>\n",
       "<p>3801 rows × 6 columns</p>\n",
       "</div>"
      ],
      "text/plain": [
       "       Country_name  Country_code  Days  Cost_of _living  Class  Ticket_price\n",
       "0       Afghanistan             4    30     30172.460000      0         24540\n",
       "1     Aland Islands           248    30     71838.010000      0         38000\n",
       "2           Albania             8    30     34357.490000      0         37154\n",
       "3           Algeria            12    30     27494.490000      0         38438\n",
       "4           Andorra            20    30     59507.980000      0         65492\n",
       "...             ...           ...   ...              ...    ...           ...\n",
       "3796      Venezuela           862    20     26736.285714      2        257598\n",
       "3797        Vietnam           704    20     23332.107143      2        183775\n",
       "3798          Yemen           887    20     35579.578571      2             0\n",
       "3799         Zambia           894    20     25017.407143      2        129491\n",
       "3800       Zimbabwe           716    20     31119.657143      2        180599\n",
       "\n",
       "[3801 rows x 6 columns]"
      ]
     },
     "execution_count": 22,
     "metadata": {},
     "output_type": "execute_result"
    }
   ],
   "source": [
    "import pandas as pd\n",
    "import numpy as np\n",
    "from sklearn.tree import DecisionTreeRegressor \n",
    "data=pd.read_csv(\"ticket_cost.csv\")\n",
    "data"
   ]
  },
  {
   "cell_type": "code",
   "execution_count": 116,
   "metadata": {},
   "outputs": [
    {
     "data": {
      "text/html": [
       "<div>\n",
       "<style scoped>\n",
       "    .dataframe tbody tr th:only-of-type {\n",
       "        vertical-align: middle;\n",
       "    }\n",
       "\n",
       "    .dataframe tbody tr th {\n",
       "        vertical-align: top;\n",
       "    }\n",
       "\n",
       "    .dataframe thead th {\n",
       "        text-align: right;\n",
       "    }\n",
       "</style>\n",
       "<table border=\"1\" class=\"dataframe\">\n",
       "  <thead>\n",
       "    <tr style=\"text-align: right;\">\n",
       "      <th></th>\n",
       "      <th>Country_name</th>\n",
       "      <th>Country_code</th>\n",
       "      <th>Days</th>\n",
       "      <th>Cost_of _living</th>\n",
       "      <th>Class</th>\n",
       "      <th>Ticket_price</th>\n",
       "    </tr>\n",
       "  </thead>\n",
       "  <tbody>\n",
       "    <tr>\n",
       "      <th>0</th>\n",
       "      <td>Afghanistan</td>\n",
       "      <td>4</td>\n",
       "      <td>30</td>\n",
       "      <td>30172.0</td>\n",
       "      <td>0</td>\n",
       "      <td>24540</td>\n",
       "    </tr>\n",
       "    <tr>\n",
       "      <th>1</th>\n",
       "      <td>Aland Islands</td>\n",
       "      <td>248</td>\n",
       "      <td>30</td>\n",
       "      <td>71838.0</td>\n",
       "      <td>0</td>\n",
       "      <td>38000</td>\n",
       "    </tr>\n",
       "    <tr>\n",
       "      <th>2</th>\n",
       "      <td>Albania</td>\n",
       "      <td>8</td>\n",
       "      <td>30</td>\n",
       "      <td>34357.0</td>\n",
       "      <td>0</td>\n",
       "      <td>37154</td>\n",
       "    </tr>\n",
       "    <tr>\n",
       "      <th>3</th>\n",
       "      <td>Algeria</td>\n",
       "      <td>12</td>\n",
       "      <td>30</td>\n",
       "      <td>27494.0</td>\n",
       "      <td>0</td>\n",
       "      <td>38438</td>\n",
       "    </tr>\n",
       "    <tr>\n",
       "      <th>4</th>\n",
       "      <td>Andorra</td>\n",
       "      <td>20</td>\n",
       "      <td>30</td>\n",
       "      <td>59508.0</td>\n",
       "      <td>0</td>\n",
       "      <td>65492</td>\n",
       "    </tr>\n",
       "    <tr>\n",
       "      <th>...</th>\n",
       "      <td>...</td>\n",
       "      <td>...</td>\n",
       "      <td>...</td>\n",
       "      <td>...</td>\n",
       "      <td>...</td>\n",
       "      <td>...</td>\n",
       "    </tr>\n",
       "    <tr>\n",
       "      <th>3796</th>\n",
       "      <td>Venezuela</td>\n",
       "      <td>862</td>\n",
       "      <td>20</td>\n",
       "      <td>26736.0</td>\n",
       "      <td>2</td>\n",
       "      <td>257598</td>\n",
       "    </tr>\n",
       "    <tr>\n",
       "      <th>3797</th>\n",
       "      <td>Vietnam</td>\n",
       "      <td>704</td>\n",
       "      <td>20</td>\n",
       "      <td>23332.0</td>\n",
       "      <td>2</td>\n",
       "      <td>183775</td>\n",
       "    </tr>\n",
       "    <tr>\n",
       "      <th>3798</th>\n",
       "      <td>Yemen</td>\n",
       "      <td>887</td>\n",
       "      <td>20</td>\n",
       "      <td>35580.0</td>\n",
       "      <td>2</td>\n",
       "      <td>0</td>\n",
       "    </tr>\n",
       "    <tr>\n",
       "      <th>3799</th>\n",
       "      <td>Zambia</td>\n",
       "      <td>894</td>\n",
       "      <td>20</td>\n",
       "      <td>25017.0</td>\n",
       "      <td>2</td>\n",
       "      <td>129491</td>\n",
       "    </tr>\n",
       "    <tr>\n",
       "      <th>3800</th>\n",
       "      <td>Zimbabwe</td>\n",
       "      <td>716</td>\n",
       "      <td>20</td>\n",
       "      <td>31120.0</td>\n",
       "      <td>2</td>\n",
       "      <td>180599</td>\n",
       "    </tr>\n",
       "  </tbody>\n",
       "</table>\n",
       "<p>3801 rows × 6 columns</p>\n",
       "</div>"
      ],
      "text/plain": [
       "       Country_name  Country_code  Days  Cost_of _living  Class  Ticket_price\n",
       "0       Afghanistan             4    30          30172.0      0         24540\n",
       "1     Aland Islands           248    30          71838.0      0         38000\n",
       "2           Albania             8    30          34357.0      0         37154\n",
       "3           Algeria            12    30          27494.0      0         38438\n",
       "4           Andorra            20    30          59508.0      0         65492\n",
       "...             ...           ...   ...              ...    ...           ...\n",
       "3796      Venezuela           862    20          26736.0      2        257598\n",
       "3797        Vietnam           704    20          23332.0      2        183775\n",
       "3798          Yemen           887    20          35580.0      2             0\n",
       "3799         Zambia           894    20          25017.0      2        129491\n",
       "3800       Zimbabwe           716    20          31120.0      2        180599\n",
       "\n",
       "[3801 rows x 6 columns]"
      ]
     },
     "execution_count": 116,
     "metadata": {},
     "output_type": "execute_result"
    }
   ],
   "source": [
    "data=np.round(data)\n",
    "data"
   ]
  },
  {
   "cell_type": "code",
   "execution_count": null,
   "metadata": {},
   "outputs": [],
   "source": []
  },
  {
   "cell_type": "code",
   "execution_count": 97,
   "metadata": {},
   "outputs": [],
   "source": [
    "from sklearn.model_selection import train_test_split"
   ]
  },
  {
   "cell_type": "code",
   "execution_count": 106,
   "metadata": {},
   "outputs": [],
   "source": [
    "x=data[[\"Country_code\",\"Days\"]]\n",
    "y=data[['Cost_of _living']]\n",
    "xtrain,xtest,ytrain,ytest=train_test_split(x,y,test_size=.2)"
   ]
  },
  {
   "cell_type": "code",
   "execution_count": 107,
   "metadata": {},
   "outputs": [
    {
     "data": {
      "text/plain": [
       "DecisionTreeRegressor()"
      ]
     },
     "execution_count": 107,
     "metadata": {},
     "output_type": "execute_result"
    }
   ],
   "source": [
    "model=DecisionTreeRegressor()\n",
    "model.fit(xtrain,ytrain)"
   ]
  },
  {
   "cell_type": "code",
   "execution_count": 108,
   "metadata": {},
   "outputs": [
    {
     "data": {
      "text/plain": [
       "0.9988232356279522"
      ]
     },
     "execution_count": 108,
     "metadata": {},
     "output_type": "execute_result"
    }
   ],
   "source": [
    "model.score(xtrain,ytrain)"
   ]
  },
  {
   "cell_type": "code",
   "execution_count": 109,
   "metadata": {},
   "outputs": [
    {
     "data": {
      "text/plain": [
       "0.8736046541568713"
      ]
     },
     "execution_count": 109,
     "metadata": {},
     "output_type": "execute_result"
    }
   ],
   "source": [
    "model.score(xtest,ytest)"
   ]
  },
  {
   "cell_type": "code",
   "execution_count": 110,
   "metadata": {},
   "outputs": [
    {
     "data": {
      "text/plain": [
       "array([393319.56785714])"
      ]
     },
     "execution_count": 110,
     "metadata": {},
     "output_type": "execute_result"
    }
   ],
   "source": [
    "model.predict([[4,300]])"
   ]
  },
  {
   "cell_type": "code",
   "execution_count": 111,
   "metadata": {},
   "outputs": [
    {
     "data": {
      "text/plain": [
       "['finalmodel']"
      ]
     },
     "execution_count": 111,
     "metadata": {},
     "output_type": "execute_result"
    }
   ],
   "source": [
    "import joblib\n",
    "joblib.dump(model,'finalmodel')"
   ]
  },
  {
   "cell_type": "code",
   "execution_count": null,
   "metadata": {},
   "outputs": [],
   "source": []
  },
  {
   "cell_type": "code",
   "execution_count": null,
   "metadata": {},
   "outputs": [],
   "source": []
  }
 ],
 "metadata": {
  "kernelspec": {
   "display_name": "Python 3",
   "language": "python",
   "name": "python3"
  },
  "language_info": {
   "codemirror_mode": {
    "name": "ipython",
    "version": 3
   },
   "file_extension": ".py",
   "mimetype": "text/x-python",
   "name": "python",
   "nbconvert_exporter": "python",
   "pygments_lexer": "ipython3",
   "version": "3.6.9"
  }
 },
 "nbformat": 4,
 "nbformat_minor": 2
}
